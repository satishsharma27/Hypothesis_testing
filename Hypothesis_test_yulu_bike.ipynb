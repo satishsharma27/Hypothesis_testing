{
 "cells": [
  {
   "cell_type": "markdown",
   "id": "dad9c48f-97aa-42b2-a036-ae778b76c340",
   "metadata": {},
   "source": [
    "## About this file \n",
    "\n",
    "#### Column Profiling:\n",
    "#### datetime: datetime\n",
    "#### season: season (1: spring, 2: summer, 3: fall, 4: winter)\n",
    "\n",
    "#### Spring: February–April (mild, pleasant)/Summer: May–June (hot, dry), but June–September is monsoon (rainy)\n",
    "\n",
    "#### fall typically covers the months of October and November, after the monsoon ends and before winter begins.\n",
    "\n",
    "#### holiday: whether day is a holiday or not (extracted from http://dchr.dc.gov/page/holiday-schedule)\n",
    "#### workingday: if day is neither weekend nor holiday is 1, otherwise is 0.\n",
    "#### weather: 1: Clear, Few clouds, partly cloudy, partly cloudy 2: Mist + Cloudy, Mist + Broken clouds, Mist + Few clouds, Mist 3: Light Snow, Light Rain + Thunderstorm + Scattered clouds, Light Rain + Scattered clouds 4: Heavy Rain + Ice Pallets + Thunderstorm + Mist, Snow + Fog\n",
    "#### temp: temperature in Celsius\n",
    "#### atemp: feeling temperature in Celsius\n",
    "#### humidity: humidity\n",
    "#### windspeed: wind speed\n",
    "#### casual: count of casual users\n",
    "#### registered: count of registered users\n",
    "#### count: count of total rental bikes including both casual and registered"
   ]
  },
  {
   "cell_type": "code",
   "execution_count": null,
   "id": "0a4a2de4-60e1-4e3d-8307-e3c3013f4760",
   "metadata": {},
   "outputs": [],
   "source": [
    "# data from Kaggel link - https://www.kaggle.com/datasets/ranitsarkar01/yulu-bike-sharing-data/data\n",
    "# code link- https://www.kaggle.com/code/shobhitasati/eda-hypothesis-testing-time-series-analysis"
   ]
  },
  {
   "cell_type": "markdown",
   "id": "bef49ac2",
   "metadata": {},
   "source": [
    "# Problem Statement\n",
    "1.Which variables are significant in predicting the demand for shared electric cycles in the Indian market?\n",
    "\n",
    "2.How well do the identified variables describe the demand for electric cycles?"
   ]
  },
  {
   "cell_type": "markdown",
   "id": "fbf3a18a",
   "metadata": {},
   "source": [
    "# Report Structure\n",
    "1.Preparing Data\n",
    "\n",
    "2.Basic statistics\n",
    "\n",
    "3.Data Cleaning\n",
    "\n",
    "4.Graphical Summary\n",
    "\n",
    "5.Profiling & Advance Statistics\n",
    "\n",
    "6.Business Insights\n",
    "\n",
    "7.Recommendations"
   ]
  },
  {
   "cell_type": "code",
   "execution_count": 2,
   "id": "5867bbc4-d259-4a86-a026-7df7d74b8d87",
   "metadata": {},
   "outputs": [],
   "source": [
    "from calendar import month_abbr\n",
    "from datetime import timedelta\n",
    "\n",
    "import matplotlib.pyplot as plt\n",
    "import numpy as np\n",
    "import pandas as pd\n",
    "import pingouin as pg\n",
    "import seaborn as sns\n",
    "from arch.unitroot import ZivotAndrews\n",
    "from scikit_posthocs import posthoc_dunn\n",
    "from scipy import stats\n",
    "from sklearn.impute import KNNImputer\n",
    "from sklearn.preprocessing import StandardScaler\n",
    "from statsmodels.tsa.api import VAR"
   ]
  },
  {
   "cell_type": "code",
   "execution_count": 4,
   "id": "0d216a13-71f2-4f34-bd85-0896aae5c93b",
   "metadata": {
    "scrolled": true
   },
   "outputs": [
    {
     "data": {
      "text/html": [
       "<div>\n",
       "<style scoped>\n",
       "    .dataframe tbody tr th:only-of-type {\n",
       "        vertical-align: middle;\n",
       "    }\n",
       "\n",
       "    .dataframe tbody tr th {\n",
       "        vertical-align: top;\n",
       "    }\n",
       "\n",
       "    .dataframe thead th {\n",
       "        text-align: right;\n",
       "    }\n",
       "</style>\n",
       "<table border=\"1\" class=\"dataframe\">\n",
       "  <thead>\n",
       "    <tr style=\"text-align: right;\">\n",
       "      <th></th>\n",
       "      <th>datetime</th>\n",
       "      <th>season</th>\n",
       "      <th>holiday</th>\n",
       "      <th>workingday</th>\n",
       "      <th>weather</th>\n",
       "      <th>temp</th>\n",
       "      <th>atemp</th>\n",
       "      <th>humidity</th>\n",
       "      <th>windspeed</th>\n",
       "      <th>casual</th>\n",
       "      <th>registered</th>\n",
       "      <th>count</th>\n",
       "    </tr>\n",
       "  </thead>\n",
       "  <tbody>\n",
       "    <tr>\n",
       "      <th>1002</th>\n",
       "      <td>2011-03-06 06:00:00</td>\n",
       "      <td>1</td>\n",
       "      <td>0</td>\n",
       "      <td>0</td>\n",
       "      <td>2</td>\n",
       "      <td>17.22</td>\n",
       "      <td>21.210</td>\n",
       "      <td>94</td>\n",
       "      <td>23.9994</td>\n",
       "      <td>1</td>\n",
       "      <td>1</td>\n",
       "      <td>2</td>\n",
       "    </tr>\n",
       "    <tr>\n",
       "      <th>5018</th>\n",
       "      <td>2011-12-03 04:00:00</td>\n",
       "      <td>4</td>\n",
       "      <td>0</td>\n",
       "      <td>0</td>\n",
       "      <td>1</td>\n",
       "      <td>9.02</td>\n",
       "      <td>11.365</td>\n",
       "      <td>75</td>\n",
       "      <td>8.9981</td>\n",
       "      <td>1</td>\n",
       "      <td>7</td>\n",
       "      <td>8</td>\n",
       "    </tr>\n",
       "    <tr>\n",
       "      <th>7437</th>\n",
       "      <td>2012-05-09 06:00:00</td>\n",
       "      <td>2</td>\n",
       "      <td>0</td>\n",
       "      <td>1</td>\n",
       "      <td>2</td>\n",
       "      <td>22.96</td>\n",
       "      <td>26.515</td>\n",
       "      <td>88</td>\n",
       "      <td>7.0015</td>\n",
       "      <td>5</td>\n",
       "      <td>121</td>\n",
       "      <td>126</td>\n",
       "    </tr>\n",
       "    <tr>\n",
       "      <th>9685</th>\n",
       "      <td>2012-10-07 22:00:00</td>\n",
       "      <td>4</td>\n",
       "      <td>0</td>\n",
       "      <td>0</td>\n",
       "      <td>1</td>\n",
       "      <td>15.58</td>\n",
       "      <td>19.695</td>\n",
       "      <td>87</td>\n",
       "      <td>8.9981</td>\n",
       "      <td>7</td>\n",
       "      <td>72</td>\n",
       "      <td>79</td>\n",
       "    </tr>\n",
       "    <tr>\n",
       "      <th>5898</th>\n",
       "      <td>2012-02-01 23:00:00</td>\n",
       "      <td>1</td>\n",
       "      <td>0</td>\n",
       "      <td>1</td>\n",
       "      <td>1</td>\n",
       "      <td>18.86</td>\n",
       "      <td>22.725</td>\n",
       "      <td>63</td>\n",
       "      <td>6.0032</td>\n",
       "      <td>22</td>\n",
       "      <td>75</td>\n",
       "      <td>97</td>\n",
       "    </tr>\n",
       "  </tbody>\n",
       "</table>\n",
       "</div>"
      ],
      "text/plain": [
       "                 datetime  season  holiday  workingday  weather   temp  \\\n",
       "1002  2011-03-06 06:00:00       1        0           0        2  17.22   \n",
       "5018  2011-12-03 04:00:00       4        0           0        1   9.02   \n",
       "7437  2012-05-09 06:00:00       2        0           1        2  22.96   \n",
       "9685  2012-10-07 22:00:00       4        0           0        1  15.58   \n",
       "5898  2012-02-01 23:00:00       1        0           1        1  18.86   \n",
       "\n",
       "       atemp  humidity  windspeed  casual  registered  count  \n",
       "1002  21.210        94    23.9994       1           1      2  \n",
       "5018  11.365        75     8.9981       1           7      8  \n",
       "7437  26.515        88     7.0015       5         121    126  \n",
       "9685  19.695        87     8.9981       7          72     79  \n",
       "5898  22.725        63     6.0032      22          75     97  "
      ]
     },
     "execution_count": 4,
     "metadata": {},
     "output_type": "execute_result"
    }
   ],
   "source": [
    "df = pd.read_csv('/home/satish/Project/Hypo_venv/Hypothesis_testing/yulu_bike_sharing_dataset.csv')\n",
    "df.sample(5) "
   ]
  },
  {
   "cell_type": "markdown",
   "id": "7620403c",
   "metadata": {},
   "source": [
    "# 2.Basic statistics\n",
    "\n",
    "In this section, we'll try to identify\n",
    "\n",
    "1.Number of rows and columns of data.\n",
    "\n",
    "2.Data type of each column, non-null values in each column and memory usage by the dataset.\n",
    "\n",
    "3.How data looks like, by taking sample of 5 rows out of it.\n",
    "\n",
    "4.Distinct values in each column.\n",
    "\n",
    "5.If dataset contains duplicated rows."
   ]
  },
  {
   "cell_type": "code",
   "execution_count": 5,
   "id": "2cd5dce0-bf0e-40bd-94b1-29e9e7162736",
   "metadata": {},
   "outputs": [
    {
     "data": {
      "text/plain": [
       "(10886, 12)"
      ]
     },
     "execution_count": 5,
     "metadata": {},
     "output_type": "execute_result"
    }
   ],
   "source": [
    "# Number of rows and columns\n",
    "\n",
    "df.shape"
   ]
  },
  {
   "cell_type": "code",
   "execution_count": 6,
   "id": "40083369",
   "metadata": {},
   "outputs": [
    {
     "name": "stdout",
     "output_type": "stream",
     "text": [
      "<class 'pandas.core.frame.DataFrame'>\n",
      "RangeIndex: 10886 entries, 0 to 10885\n",
      "Data columns (total 12 columns):\n",
      " #   Column      Non-Null Count  Dtype  \n",
      "---  ------      --------------  -----  \n",
      " 0   datetime    10886 non-null  object \n",
      " 1   season      10886 non-null  int64  \n",
      " 2   holiday     10886 non-null  int64  \n",
      " 3   workingday  10886 non-null  int64  \n",
      " 4   weather     10886 non-null  int64  \n",
      " 5   temp        10886 non-null  float64\n",
      " 6   atemp       10886 non-null  float64\n",
      " 7   humidity    10886 non-null  int64  \n",
      " 8   windspeed   10886 non-null  float64\n",
      " 9   casual      10886 non-null  int64  \n",
      " 10  registered  10886 non-null  int64  \n",
      " 11  count       10886 non-null  int64  \n",
      "dtypes: float64(3), int64(8), object(1)\n",
      "memory usage: 1020.7+ KB\n"
     ]
    }
   ],
   "source": [
    "# data types and null values\n",
    "df.info()"
   ]
  },
  {
   "cell_type": "code",
   "execution_count": 7,
   "id": "6daa806d",
   "metadata": {},
   "outputs": [
    {
     "data": {
      "text/html": [
       "<div>\n",
       "<style scoped>\n",
       "    .dataframe tbody tr th:only-of-type {\n",
       "        vertical-align: middle;\n",
       "    }\n",
       "\n",
       "    .dataframe tbody tr th {\n",
       "        vertical-align: top;\n",
       "    }\n",
       "\n",
       "    .dataframe thead th {\n",
       "        text-align: right;\n",
       "    }\n",
       "</style>\n",
       "<table border=\"1\" class=\"dataframe\">\n",
       "  <thead>\n",
       "    <tr style=\"text-align: right;\">\n",
       "      <th></th>\n",
       "      <th>datetime</th>\n",
       "      <th>season</th>\n",
       "      <th>holiday</th>\n",
       "      <th>workingday</th>\n",
       "      <th>weather</th>\n",
       "      <th>temp</th>\n",
       "      <th>atemp</th>\n",
       "      <th>humidity</th>\n",
       "      <th>windspeed</th>\n",
       "      <th>casual</th>\n",
       "      <th>registered</th>\n",
       "      <th>count</th>\n",
       "    </tr>\n",
       "  </thead>\n",
       "  <tbody>\n",
       "    <tr>\n",
       "      <th>10322</th>\n",
       "      <td>2012-11-15 12:00:00</td>\n",
       "      <td>4</td>\n",
       "      <td>0</td>\n",
       "      <td>1</td>\n",
       "      <td>2</td>\n",
       "      <td>14.76</td>\n",
       "      <td>18.180</td>\n",
       "      <td>62</td>\n",
       "      <td>7.0015</td>\n",
       "      <td>29</td>\n",
       "      <td>184</td>\n",
       "      <td>213</td>\n",
       "    </tr>\n",
       "    <tr>\n",
       "      <th>5830</th>\n",
       "      <td>2012-01-18 03:00:00</td>\n",
       "      <td>1</td>\n",
       "      <td>0</td>\n",
       "      <td>1</td>\n",
       "      <td>2</td>\n",
       "      <td>18.04</td>\n",
       "      <td>21.970</td>\n",
       "      <td>51</td>\n",
       "      <td>32.9975</td>\n",
       "      <td>1</td>\n",
       "      <td>3</td>\n",
       "      <td>4</td>\n",
       "    </tr>\n",
       "    <tr>\n",
       "      <th>6165</th>\n",
       "      <td>2012-02-13 03:00:00</td>\n",
       "      <td>1</td>\n",
       "      <td>0</td>\n",
       "      <td>1</td>\n",
       "      <td>1</td>\n",
       "      <td>4.92</td>\n",
       "      <td>7.575</td>\n",
       "      <td>54</td>\n",
       "      <td>7.0015</td>\n",
       "      <td>0</td>\n",
       "      <td>1</td>\n",
       "      <td>1</td>\n",
       "    </tr>\n",
       "    <tr>\n",
       "      <th>3001</th>\n",
       "      <td>2011-07-13 23:00:00</td>\n",
       "      <td>3</td>\n",
       "      <td>0</td>\n",
       "      <td>1</td>\n",
       "      <td>1</td>\n",
       "      <td>27.06</td>\n",
       "      <td>30.305</td>\n",
       "      <td>83</td>\n",
       "      <td>16.9979</td>\n",
       "      <td>33</td>\n",
       "      <td>83</td>\n",
       "      <td>116</td>\n",
       "    </tr>\n",
       "    <tr>\n",
       "      <th>3983</th>\n",
       "      <td>2011-09-17 00:00:00</td>\n",
       "      <td>3</td>\n",
       "      <td>0</td>\n",
       "      <td>0</td>\n",
       "      <td>1</td>\n",
       "      <td>18.86</td>\n",
       "      <td>22.725</td>\n",
       "      <td>72</td>\n",
       "      <td>11.0014</td>\n",
       "      <td>28</td>\n",
       "      <td>80</td>\n",
       "      <td>108</td>\n",
       "    </tr>\n",
       "  </tbody>\n",
       "</table>\n",
       "</div>"
      ],
      "text/plain": [
       "                  datetime  season  holiday  workingday  weather   temp  \\\n",
       "10322  2012-11-15 12:00:00       4        0           1        2  14.76   \n",
       "5830   2012-01-18 03:00:00       1        0           1        2  18.04   \n",
       "6165   2012-02-13 03:00:00       1        0           1        1   4.92   \n",
       "3001   2011-07-13 23:00:00       3        0           1        1  27.06   \n",
       "3983   2011-09-17 00:00:00       3        0           0        1  18.86   \n",
       "\n",
       "        atemp  humidity  windspeed  casual  registered  count  \n",
       "10322  18.180        62     7.0015      29         184    213  \n",
       "5830   21.970        51    32.9975       1           3      4  \n",
       "6165    7.575        54     7.0015       0           1      1  \n",
       "3001   30.305        83    16.9979      33          83    116  \n",
       "3983   22.725        72    11.0014      28          80    108  "
      ]
     },
     "execution_count": 7,
     "metadata": {},
     "output_type": "execute_result"
    }
   ],
   "source": [
    "df.sample(5)"
   ]
  },
  {
   "cell_type": "code",
   "execution_count": 9,
   "id": "b5034b10",
   "metadata": {},
   "outputs": [
    {
     "data": {
      "text/html": [
       "<style type=\"text/css\">\n",
       "</style>\n",
       "<table id=\"T_06870\">\n",
       "  <thead>\n",
       "  </thead>\n",
       "  <tbody>\n",
       "    <tr>\n",
       "      <th id=\"T_06870_level0_row0\" class=\"row_heading level0 row0\" >index</th>\n",
       "      <td id=\"T_06870_row0_col0\" class=\"data row0 col0\" >datetime</td>\n",
       "      <td id=\"T_06870_row0_col1\" class=\"data row0 col1\" >season</td>\n",
       "      <td id=\"T_06870_row0_col2\" class=\"data row0 col2\" >holiday</td>\n",
       "      <td id=\"T_06870_row0_col3\" class=\"data row0 col3\" >workingday</td>\n",
       "      <td id=\"T_06870_row0_col4\" class=\"data row0 col4\" >weather</td>\n",
       "      <td id=\"T_06870_row0_col5\" class=\"data row0 col5\" >temp</td>\n",
       "      <td id=\"T_06870_row0_col6\" class=\"data row0 col6\" >atemp</td>\n",
       "      <td id=\"T_06870_row0_col7\" class=\"data row0 col7\" >humidity</td>\n",
       "      <td id=\"T_06870_row0_col8\" class=\"data row0 col8\" >windspeed</td>\n",
       "      <td id=\"T_06870_row0_col9\" class=\"data row0 col9\" >casual</td>\n",
       "      <td id=\"T_06870_row0_col10\" class=\"data row0 col10\" >registered</td>\n",
       "      <td id=\"T_06870_row0_col11\" class=\"data row0 col11\" >count</td>\n",
       "    </tr>\n",
       "    <tr>\n",
       "      <th id=\"T_06870_level0_row1\" class=\"row_heading level0 row1\" >Distinct values</th>\n",
       "      <td id=\"T_06870_row1_col0\" class=\"data row1 col0\" >10886</td>\n",
       "      <td id=\"T_06870_row1_col1\" class=\"data row1 col1\" >4</td>\n",
       "      <td id=\"T_06870_row1_col2\" class=\"data row1 col2\" >2</td>\n",
       "      <td id=\"T_06870_row1_col3\" class=\"data row1 col3\" >2</td>\n",
       "      <td id=\"T_06870_row1_col4\" class=\"data row1 col4\" >4</td>\n",
       "      <td id=\"T_06870_row1_col5\" class=\"data row1 col5\" >49</td>\n",
       "      <td id=\"T_06870_row1_col6\" class=\"data row1 col6\" >60</td>\n",
       "      <td id=\"T_06870_row1_col7\" class=\"data row1 col7\" >89</td>\n",
       "      <td id=\"T_06870_row1_col8\" class=\"data row1 col8\" >28</td>\n",
       "      <td id=\"T_06870_row1_col9\" class=\"data row1 col9\" >309</td>\n",
       "      <td id=\"T_06870_row1_col10\" class=\"data row1 col10\" >731</td>\n",
       "      <td id=\"T_06870_row1_col11\" class=\"data row1 col11\" >822</td>\n",
       "    </tr>\n",
       "  </tbody>\n",
       "</table>\n"
      ],
      "text/plain": [
       "<pandas.io.formats.style.Styler at 0x71a82b482ff0>"
      ]
     },
     "execution_count": 9,
     "metadata": {},
     "output_type": "execute_result"
    }
   ],
   "source": [
    "# Distinct values in each column\n",
    "df.nunique().rename('Distinct values').reset_index().T.style.hide(axis='columns')"
   ]
  },
  {
   "cell_type": "code",
   "execution_count": 10,
   "id": "0bc7337e",
   "metadata": {},
   "outputs": [
    {
     "data": {
      "text/plain": [
       "np.int64(0)"
      ]
     },
     "execution_count": 10,
     "metadata": {},
     "output_type": "execute_result"
    }
   ],
   "source": [
    "# Dataset contains duplicate rows\n",
    "df.duplicated().sum()"
   ]
  },
  {
   "cell_type": "markdown",
   "id": "e6c5be94",
   "metadata": {},
   "source": [
    "# Statistical Summary"
   ]
  },
  {
   "cell_type": "code",
   "execution_count": 12,
   "id": "d711293a",
   "metadata": {},
   "outputs": [],
   "source": [
    "df.datetime = pd.to_datetime(df.datetime)\n",
    "\n",
    "# Renaming 'count' column to 'total_rentals'\n",
    "df.rename(columns={\"count\": \"total_rentals\"}, inplace=True)\n",
    "\n",
    "statistics = df.copy()\n",
    "\n",
    "seasons = {1: \"spring\", 2: \"summer\", 3: \"fall\", 4: \"winter\"}\n",
    "statistics[\"season\"] = statistics[\"season\"].map(seasons)\n",
    "\n",
    "working = {1: \"working\", 0: \"non-working\"}\n",
    "statistics[\"workingday\"] = statistics[\"workingday\"].map(working)\n",
    "\n",
    "holiday = {1: \"holiday\", 0: \"non-holiday\"}\n",
    "statistics[\"holiday\"] = statistics[\"holiday\"].map(holiday)\n",
    "\n",
    "weather = {\n",
    "    1: \"clear or cloudy\",\n",
    "    2: \"misty and cloudy\",\n",
    "    3: \"thunderstorm, light rain or snow\",\n",
    "    4: \"fog, heavy rain, ice pellets or snow\",\n",
    "}\n",
    "statistics[\"weather\"] = statistics[\"weather\"].map(weather)\n",
    "\n",
    "# Seperating date from time.\n",
    "statistics[\"date\"] = pd.to_datetime(df[\"datetime\"]).dt.date\n",
    "statistics[\"time\"] = pd.to_datetime(df[\"datetime\"]).dt.time\n",
    "statistics.drop(columns=\"datetime\", inplace=True)\n",
    "\n",
    "# Nominal Variables — Holiday, Season, Weather, Working Day\n",
    "nominal_columns = [\"holiday\", \"season\", \"weather\", \"workingday\"]\n",
    "\n",
    "for column in nominal_columns:\n",
    "    statistics[column] = statistics[column].astype(\"category\")"
   ]
  },
  {
   "cell_type": "code",
   "execution_count": 13,
   "id": "c489929e",
   "metadata": {},
   "outputs": [
    {
     "data": {
      "text/html": [
       "<div>\n",
       "<style scoped>\n",
       "    .dataframe tbody tr th:only-of-type {\n",
       "        vertical-align: middle;\n",
       "    }\n",
       "\n",
       "    .dataframe tbody tr th {\n",
       "        vertical-align: top;\n",
       "    }\n",
       "\n",
       "    .dataframe thead th {\n",
       "        text-align: right;\n",
       "    }\n",
       "</style>\n",
       "<table border=\"1\" class=\"dataframe\">\n",
       "  <thead>\n",
       "    <tr style=\"text-align: right;\">\n",
       "      <th></th>\n",
       "      <th>datetime</th>\n",
       "      <th>season</th>\n",
       "      <th>holiday</th>\n",
       "      <th>workingday</th>\n",
       "      <th>weather</th>\n",
       "      <th>temp</th>\n",
       "      <th>atemp</th>\n",
       "      <th>humidity</th>\n",
       "      <th>windspeed</th>\n",
       "      <th>casual</th>\n",
       "      <th>registered</th>\n",
       "      <th>total_rentals</th>\n",
       "    </tr>\n",
       "  </thead>\n",
       "  <tbody>\n",
       "    <tr>\n",
       "      <th>2597</th>\n",
       "      <td>2011-06-16 03:00:00</td>\n",
       "      <td>2</td>\n",
       "      <td>0</td>\n",
       "      <td>1</td>\n",
       "      <td>2</td>\n",
       "      <td>22.96</td>\n",
       "      <td>26.515</td>\n",
       "      <td>73</td>\n",
       "      <td>6.0032</td>\n",
       "      <td>0</td>\n",
       "      <td>4</td>\n",
       "      <td>4</td>\n",
       "    </tr>\n",
       "    <tr>\n",
       "      <th>10462</th>\n",
       "      <td>2012-12-02 08:00:00</td>\n",
       "      <td>4</td>\n",
       "      <td>0</td>\n",
       "      <td>0</td>\n",
       "      <td>2</td>\n",
       "      <td>10.66</td>\n",
       "      <td>14.395</td>\n",
       "      <td>93</td>\n",
       "      <td>6.0032</td>\n",
       "      <td>12</td>\n",
       "      <td>81</td>\n",
       "      <td>93</td>\n",
       "    </tr>\n",
       "    <tr>\n",
       "      <th>4962</th>\n",
       "      <td>2011-11-19 20:00:00</td>\n",
       "      <td>4</td>\n",
       "      <td>0</td>\n",
       "      <td>0</td>\n",
       "      <td>2</td>\n",
       "      <td>14.76</td>\n",
       "      <td>18.180</td>\n",
       "      <td>57</td>\n",
       "      <td>7.0015</td>\n",
       "      <td>48</td>\n",
       "      <td>115</td>\n",
       "      <td>163</td>\n",
       "    </tr>\n",
       "    <tr>\n",
       "      <th>3526</th>\n",
       "      <td>2011-08-16 20:00:00</td>\n",
       "      <td>3</td>\n",
       "      <td>0</td>\n",
       "      <td>1</td>\n",
       "      <td>1</td>\n",
       "      <td>30.34</td>\n",
       "      <td>33.335</td>\n",
       "      <td>51</td>\n",
       "      <td>0.0000</td>\n",
       "      <td>48</td>\n",
       "      <td>232</td>\n",
       "      <td>280</td>\n",
       "    </tr>\n",
       "    <tr>\n",
       "      <th>5490</th>\n",
       "      <td>2012-01-03 21:00:00</td>\n",
       "      <td>1</td>\n",
       "      <td>0</td>\n",
       "      <td>1</td>\n",
       "      <td>1</td>\n",
       "      <td>4.10</td>\n",
       "      <td>5.305</td>\n",
       "      <td>36</td>\n",
       "      <td>15.0013</td>\n",
       "      <td>2</td>\n",
       "      <td>66</td>\n",
       "      <td>68</td>\n",
       "    </tr>\n",
       "  </tbody>\n",
       "</table>\n",
       "</div>"
      ],
      "text/plain": [
       "                 datetime  season  holiday  workingday  weather   temp  \\\n",
       "2597  2011-06-16 03:00:00       2        0           1        2  22.96   \n",
       "10462 2012-12-02 08:00:00       4        0           0        2  10.66   \n",
       "4962  2011-11-19 20:00:00       4        0           0        2  14.76   \n",
       "3526  2011-08-16 20:00:00       3        0           1        1  30.34   \n",
       "5490  2012-01-03 21:00:00       1        0           1        1   4.10   \n",
       "\n",
       "        atemp  humidity  windspeed  casual  registered  total_rentals  \n",
       "2597   26.515        73     6.0032       0           4              4  \n",
       "10462  14.395        93     6.0032      12          81             93  \n",
       "4962   18.180        57     7.0015      48         115            163  \n",
       "3526   33.335        51     0.0000      48         232            280  \n",
       "5490    5.305        36    15.0013       2          66             68  "
      ]
     },
     "execution_count": 13,
     "metadata": {},
     "output_type": "execute_result"
    }
   ],
   "source": [
    "# verifying the changes \n",
    "\n",
    "df.sample(5)"
   ]
  },
  {
   "cell_type": "markdown",
   "id": "294162dc",
   "metadata": {},
   "source": [
    "# Missing value "
   ]
  },
  {
   "cell_type": "code",
   "execution_count": 33,
   "id": "7e8f99db",
   "metadata": {},
   "outputs": [
    {
     "data": {
      "text/plain": [
       "[2011, 2012]"
      ]
     },
     "execution_count": 33,
     "metadata": {},
     "output_type": "execute_result"
    }
   ],
   "source": [
    "# How many years of date we have \n",
    "df[\"datetime\"].dt.year.unique().tolist()"
   ]
  },
  {
   "cell_type": "code",
   "execution_count": 34,
   "id": "6aec6586",
   "metadata": {},
   "outputs": [
    {
     "data": {
      "text/plain": [
       "(718, 456)"
      ]
     },
     "execution_count": 34,
     "metadata": {},
     "output_type": "execute_result"
    }
   ],
   "source": [
    "# Subtracting first and last date to find range of days.\n",
    "(df.datetime.dt.date.max() - df.datetime.dt.date.min()).days, len(df.datetime.dt.date.unique())"
   ]
  },
  {
   "cell_type": "code",
   "execution_count": 35,
   "id": "3b2167ad",
   "metadata": {},
   "outputs": [
    {
     "data": {
      "text/plain": [
       "datetime\n",
       "2011-01-01    24\n",
       "2011-01-02    23\n",
       "2011-01-03    22\n",
       "2011-01-04    23\n",
       "2011-01-05    23\n",
       "              ..\n",
       "2012-12-15    24\n",
       "2012-12-16    24\n",
       "2012-12-17    24\n",
       "2012-12-18    24\n",
       "2012-12-19    24\n",
       "Name: datetime, Length: 456, dtype: int64"
      ]
     },
     "execution_count": 35,
     "metadata": {},
     "output_type": "execute_result"
    }
   ],
   "source": [
    "# How data is divided for a day — hourly\n",
    "df.groupby(df.datetime.dt.date).count().datetime"
   ]
  },
  {
   "cell_type": "code",
   "execution_count": 36,
   "id": "5bc7d427",
   "metadata": {},
   "outputs": [
    {
     "data": {
      "text/plain": [
       "(10944, 10886)"
      ]
     },
     "execution_count": 36,
     "metadata": {},
     "output_type": "execute_result"
    }
   ],
   "source": [
    "# Comparing available data with actual numbers.\n",
    "456 * 24, df.shape[0]"
   ]
  },
  {
   "cell_type": "markdown",
   "id": "6f5b1b4d",
   "metadata": {},
   "source": [
    "So we discovered missing data at two levels  −\n",
    " \n",
    "Not all the dates are available to us, to be precise,36.5% or 262 Days of data is missing\n",
    "Data is not available for every hour of every date, to be precise,58 hours for available dates.\n",
    "If there is no rental at particular hour/day it hasn't been logged"
   ]
  },
  {
   "cell_type": "markdown",
   "id": "7ecc6701",
   "metadata": {},
   "source": [
    "# Outlier Detection and Treatment"
   ]
  },
  {
   "cell_type": "code",
   "execution_count": 42,
   "id": "44288963",
   "metadata": {},
   "outputs": [
    {
     "data": {
      "image/png": "[encoded data removed]",
      "text/plain": [
       "<Figure size 1200x350 with 4 Axes>"
      ]
     },
     "metadata": {},
     "output_type": "display_data"
    }
   ],
   "source": [
    "sns.set_style(\"darkgrid\")\n",
    "\n",
    "columns = ['temp', 'atemp', 'humidity', 'windspeed']\n",
    "fig, axes = plt.subplots(1, len(columns), figsize=(12, 3.5))\n",
    "\n",
    "for idx, ax in enumerate(axes.flat):\n",
    "    sns.boxplot(\n",
    "        y = columns[idx], data = df,showcaps = True, width = 0.2, ax=ax,\n",
    "        medianprops = dict(color='g', alpha=0.7), color = \"0.9\", linewidth = 0.75,\n",
    "        flierprops = dict(marker='x', markeredgecolor='r', alpha=0.2)\n",
    "    )\n",
    "\n",
    "plt.tight_layout()\n",
    "plt.show()"
   ]
  },
  {
   "cell_type": "code",
   "execution_count": 44,
   "id": "5febfd2d",
   "metadata": {},
   "outputs": [
    {
     "data": {
      "text/plain": [
       "array([<Axes: ylabel='temp'>, <Axes: ylabel='atemp'>,\n",
       "       <Axes: ylabel='humidity'>, <Axes: ylabel='windspeed'>],\n",
       "      dtype=object)"
      ]
     },
     "execution_count": 44,
     "metadata": {},
     "output_type": "execute_result"
    }
   ],
   "source": [
    "axes\n"
   ]
  }
 ],
 "metadata": {
  "kernelspec": {
   "display_name": "Hypo_venv (3.12.3)",
   "language": "python",
   "name": "python3"
  },
  "language_info": {
   "codemirror_mode": {
    "name": "ipython",
    "version": 3
   },
   "file_extension": ".py",
   "mimetype": "text/x-python",
   "name": "python",
   "nbconvert_exporter": "python",
   "pygments_lexer": "ipython3",
   "version": "3.12.3"
  }
 },
 "nbformat": 4,
 "nbformat_minor": 5
}
